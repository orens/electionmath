{
 "cells": [
  {
   "cell_type": "code",
   "execution_count": 121,
   "metadata": {},
   "outputs": [],
   "source": [
    "from sympy import *\n",
    "\n",
    "\n",
    "def calc_req_per(bidan_votes:int, trump_votes: int, counted_percent: float, assume_independant_percent = 0, state = ''):\n",
    "    init_printing(use_unicode=True)\n",
    "    if state:\n",
    "        print(f'Calculating for {state}')\n",
    "    total_counted = (bidan_votes + trump_votes)\n",
    "    total_counted += total_counted*assume_independant_percent/100\n",
    "    missing: float = (total_counted*(100-counted_percent))/counted_percent\n",
    "    print(f'Missing votes: {missing:.0f}')\n",
    "    target_bidan = symbols('target_bidan')\n",
    "    solution = solve(bidan_votes+(missing * target_bidan)-trump_votes - (missing * (100 - assume_independant_percent - target_bidan)), target_bidan)[0]\n",
    "    print(f'*** Bidan requires at least {solution:.2f} percent in remaining votes to win')\n",
    "    print(f'*** Trump requires at least {100 - assume_independant_percent - solution:.2f} percent in remaining votes to win')\n",
    "    diff = float((bidan_votes + solution * missing)-(trump_votes + (100 - assume_independant_percent - solution) * missing))\n",
    "    print(f'Diff on {solution:.2f} for bidan: {diff:.2f}')\n",
    "    if(diff > 0.1):\n",
    "        print(f'Warning!: Too high diff: {diff}')\n",
    "    else:\n",
    "        print('Great success!')\n",
    "    print('-'*50)\n",
    "    "
   ]
  },
  {
   "cell_type": "code",
   "execution_count": 125,
   "metadata": {},
   "outputs": [
    {
     "name": "stdout",
     "output_type": "stream",
     "text": [
      "Calculating for Pensilvenia\n",
      "Missing votes: 783933\n",
      "*** Bidan requires at least 49.50 percent in remaining votes to win\n",
      "*** Trump requires at least 49.30 percent in remaining votes to win\n",
      "Diff on 49.50 for bidan: -0.00\n",
      "Great success!\n",
      "--------------------------------------------------\n",
      "Calculating for Nevada\n",
      "Missing votes: 194085\n",
      "*** Bidan requires at least 48.98 percent in remaining votes to win\n",
      "*** Trump requires at least 49.02 percent in remaining votes to win\n",
      "Diff on 48.98 for bidan: -0.00\n",
      "Great success!\n",
      "--------------------------------------------------\n",
      "Calculating for Arizona\n",
      "Missing votes: 473798\n",
      "*** Bidan requires at least 49.23 percent in remaining votes to win\n",
      "*** Trump requires at least 49.37 percent in remaining votes to win\n",
      "Diff on 49.23 for bidan: -0.00\n",
      "Great success!\n",
      "--------------------------------------------------\n",
      "Calculating for North Carolina\n",
      "Missing votes: 286955\n",
      "*** Bidan requires at least 49.53 percent in remaining votes to win\n",
      "*** Trump requires at least 49.27 percent in remaining votes to win\n",
      "Diff on 49.53 for bidan: -0.00\n",
      "Great success!\n",
      "--------------------------------------------------\n",
      "Calculating for Georgia\n",
      "Missing votes: 204294\n",
      "*** Bidan requires at least 49.45 percent in remaining votes to win\n",
      "*** Trump requires at least 49.35 percent in remaining votes to win\n",
      "Diff on 49.45 for bidan: 0.00\n",
      "Great success!\n",
      "--------------------------------------------------\n",
      "Calculating for Alaska\n",
      "Missing votes: 7160\n",
      "*** Bidan requires at least 51.54 percent in remaining votes to win\n",
      "*** Trump requires at least 44.36 percent in remaining votes to win\n",
      "Diff on 51.54 for bidan: -0.00\n",
      "Great success!\n",
      "--------------------------------------------------\n"
     ]
    }
   ],
   "source": [
    "calc_req_per(3051555, 3215969, 89, state = 'Pensilvenia', assume_independant_percent=1.2)\n",
    "calc_req_per( 588252,  580605, 86, state = 'Nevada', assume_independant_percent=2)\n",
    "calc_req_per(1469341, 1400951, 86, state = 'Arizona', assume_independant_percent=1.4)\n",
    "calc_req_per(2655383, 2732120, 95, state = 'North Carolina', assume_independant_percent=1.2)\n",
    "calc_req_per(2413184, 2431724, 96, state = 'Georgia', assume_independant_percent=1.2)\n",
    "calc_req_per(  56849,  108231, 96, state = 'Alaska', assume_independant_percent=4.1)\n"
   ]
  },
  {
   "cell_type": "code",
   "execution_count": null,
   "metadata": {},
   "outputs": [],
   "source": [
    "\n"
   ]
  }
 ],
 "metadata": {
  "kernelspec": {
   "display_name": "Python 3",
   "language": "python",
   "name": "python3"
  },
  "language_info": {
   "codemirror_mode": {
    "name": "ipython",
    "version": 3
   },
   "file_extension": ".py",
   "mimetype": "text/x-python",
   "name": "python",
   "nbconvert_exporter": "python",
   "pygments_lexer": "ipython3",
   "version": "3.7.9"
  }
 },
 "nbformat": 4,
 "nbformat_minor": 4
}
