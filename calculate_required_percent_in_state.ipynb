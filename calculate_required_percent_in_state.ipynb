{
 "cells": [
  {
   "cell_type": "code",
   "execution_count": 147,
   "metadata": {},
   "outputs": [],
   "source": [
    "from sympy import *\n",
    "\n",
    "\n",
    "def calc_req_per(bidan_votes:int, trump_votes: int, counted_percent: float, assume_independant_percent = 0, state = ''):\n",
    "    init_printing(use_unicode=True)\n",
    "    if state:\n",
    "        print(f'Calculating for {state}')\n",
    "    total_counted = (bidan_votes + trump_votes)\n",
    "    total_counted += total_counted*assume_independant_percent/(100-assume_independant_percent)\n",
    "    missing: float = (total_counted*(100-counted_percent))/counted_percent\n",
    "    print(f'Total counted votes: {total_counted:.0f}')\n",
    "    print(f'Missing votes: {missing:.0f}')\n",
    "    target_bidan = symbols('target_bidan')\n",
    "    solution = solve(bidan_votes+(missing * target_bidan/100-trump_votes) - (missing * (100 - assume_independant_percent - target_bidan)/100), target_bidan)[0]\n",
    "    min_percent_bidan = solution\n",
    "    min_percent_trump = 100 - assume_independant_percent - solution\n",
    "    if min_percent_bidan > 100:\n",
    "        print(f'*** No way for Bidan win, call it for Trump. Required for biden: {min_percent_bidan:.2f}%')\n",
    "    elif min_percent_trump > 100:\n",
    "        print(f'*** No way for Trump win, call it for Bidan. Required for biden: {min_percent_trump:.2f}%')\n",
    "    else:\n",
    "        print(f'*** Bidan requires at least {min_percent_bidan:.2f}% in remaining votes to win')\n",
    "        print(f'*** Trump requires at least {min_percent_trump:.2f}% in remaining votes to win')\n",
    "    diff = float((bidan_votes + min_percent_bidan * missing/100)-(trump_votes + min_percent_trump * missing / 100))\n",
    "    #print(f'Diff on {min_percent_bidan:.2f} for bidan: {diff:.2f}')\n",
    "    if(abs(diff) > 0.1):\n",
    "        print(f'Warning!: Too high diff: {diff}')\n",
    "    print('-'*50)\n",
    "    "
   ]
  },
  {
   "cell_type": "code",
   "execution_count": 148,
   "metadata": {},
   "outputs": [
    {
     "name": "stdout",
     "output_type": "stream",
     "text": [
      "Calculating for Pensilvenia\n",
      "Total counted votes: 6343648\n",
      "Missing votes: 784046\n",
      "*** Bidan requires at least 59.88% in remaining votes to win\n",
      "*** Trump requires at least 38.92% in remaining votes to win\n",
      "--------------------------------------------------\n",
      "Calculating for Nevada\n",
      "Total counted votes: 1192711\n",
      "Missing votes: 194162\n",
      "*** Bidan requires at least 47.03% in remaining votes to win\n",
      "*** Trump requires at least 50.97% in remaining votes to win\n",
      "--------------------------------------------------\n",
      "Calculating for Arizona\n",
      "Total counted votes: 2911047\n",
      "Missing votes: 473891\n",
      "*** Bidan requires at least 42.08% in remaining votes to win\n",
      "*** Trump requires at least 56.52% in remaining votes to win\n",
      "--------------------------------------------------\n",
      "Calculating for North Carolina\n",
      "Total counted votes: 5452938\n",
      "Missing votes: 286997\n",
      "*** Bidan requires at least 62.77% in remaining votes to win\n",
      "*** Trump requires at least 36.03% in remaining votes to win\n",
      "--------------------------------------------------\n",
      "Calculating for Georgia\n",
      "Total counted votes: 4905123\n",
      "Missing votes: 204380\n",
      "*** Bidan requires at least 53.95% in remaining votes to win\n",
      "*** Trump requires at least 44.85% in remaining votes to win\n",
      "--------------------------------------------------\n",
      "Calculating for Alaska\n",
      "Total counted votes: 172138\n",
      "Missing votes: 7172\n",
      "*** No way for Bidan win, call it for Trump. Required for biden: 406.14%\n",
      "--------------------------------------------------\n"
     ]
    }
   ],
   "source": [
    "calc_req_per(3051555, 3215969, 89, state = 'Pensilvenia', assume_independant_percent=1.2)\n",
    "calc_req_per( 588252,  580605, 86, state = 'Nevada', assume_independant_percent=2)\n",
    "calc_req_per(1469341, 1400951, 86, state = 'Arizona', assume_independant_percent=1.4)\n",
    "calc_req_per(2655383, 2732120, 95, state = 'North Carolina', assume_independant_percent=1.2)\n",
    "calc_req_per(2413836, 2432426, 96, state = 'Georgia', assume_independant_percent=1.2)\n",
    "calc_req_per(  56849,  108231, 96, state = 'Alaska', assume_independant_percent=4.1)\n"
   ]
  },
  {
   "cell_type": "code",
   "execution_count": null,
   "metadata": {},
   "outputs": [],
   "source": [
    "\n"
   ]
  }
 ],
 "metadata": {
  "kernelspec": {
   "display_name": "Python 3",
   "language": "python",
   "name": "python3"
  },
  "language_info": {
   "codemirror_mode": {
    "name": "ipython",
    "version": 3
   },
   "file_extension": ".py",
   "mimetype": "text/x-python",
   "name": "python",
   "nbconvert_exporter": "python",
   "pygments_lexer": "ipython3",
   "version": "3.7.9"
  }
 },
 "nbformat": 4,
 "nbformat_minor": 4
}
